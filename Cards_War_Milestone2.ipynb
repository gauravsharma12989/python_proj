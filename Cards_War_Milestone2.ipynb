{
 "cells": [
  {
   "cell_type": "code",
   "execution_count": 1,
   "metadata": {},
   "outputs": [],
   "source": [
    "class Cards:\n",
    "    \n",
    "    def __init__(self,suit,rank):\n",
    "        self.suit = suit # heart,club etc\n",
    "        self.rank = rank # Two, Three etc\n",
    "        self.value = values[rank] # 2, 3 etc\n",
    "        \n",
    "    def __str__(self):\n",
    "        return self.rank + \" Of \"+ self.suit\n",
    "        "
   ]
  },
  {
   "cell_type": "code",
   "execution_count": 2,
   "metadata": {},
   "outputs": [],
   "source": [
    "values = {\"Two\":2,\"Three\":3,\"Four\":4,\"Five\":5,\"Six\":6,\"Seven\":7,\"Eight\":8,\"Nine\":9,\"Ten\":10,\"Jack\":11,\"Queen\":12,\"King\":13,\"Ace\":14}\n",
    "suits = {\"Heart\",\"Club\",\"Spade\",\"Diamond\"}"
   ]
  },
  {
   "cell_type": "code",
   "execution_count": 16,
   "metadata": {},
   "outputs": [],
   "source": [
    "new_card = Cards(\"Heart\",\"Three\")"
   ]
  },
  {
   "cell_type": "code",
   "execution_count": 17,
   "metadata": {},
   "outputs": [
    {
     "name": "stdout",
     "output_type": "stream",
     "text": [
      "Three Of Heart\n"
     ]
    }
   ],
   "source": [
    "print(new_card)"
   ]
  },
  {
   "cell_type": "code",
   "execution_count": 3,
   "metadata": {},
   "outputs": [],
   "source": [
    "from random import shuffle\n",
    "class Deck:\n",
    "    \n",
    "    def __init__(self):\n",
    "        self.all_cards = []\n",
    "        for i in suits:\n",
    "            for k in values.keys():\n",
    "                self.all_cards.append(Cards(i,k))\n",
    "        \n",
    "    \n",
    "    def shuffle(self):\n",
    "        shuffle(self.all_cards)\n",
    "    \n",
    "    #def add_cards(self,card):\n",
    "    #    self.all_cards.append(card)\n",
    "    \n",
    "    def __str__(self):\n",
    "        return (f'Deck has {len(self.all_cards)} cards')"
   ]
  },
  {
   "cell_type": "code",
   "execution_count": 77,
   "metadata": {},
   "outputs": [],
   "source": [
    "dc = Deck()"
   ]
  },
  {
   "cell_type": "code",
   "execution_count": 78,
   "metadata": {},
   "outputs": [
    {
     "data": {
      "text/plain": [
       "[<__main__.Cards at 0x1e890380608>,\n",
       " <__main__.Cards at 0x1e890380548>,\n",
       " <__main__.Cards at 0x1e890502308>,\n",
       " <__main__.Cards at 0x1e890502248>,\n",
       " <__main__.Cards at 0x1e8905022c8>,\n",
       " <__main__.Cards at 0x1e890502348>,\n",
       " <__main__.Cards at 0x1e890502408>,\n",
       " <__main__.Cards at 0x1e8905021c8>,\n",
       " <__main__.Cards at 0x1e8905023c8>,\n",
       " <__main__.Cards at 0x1e890502388>,\n",
       " <__main__.Cards at 0x1e890502448>,\n",
       " <__main__.Cards at 0x1e890502288>,\n",
       " <__main__.Cards at 0x1e890502208>,\n",
       " <__main__.Cards at 0x1e89037b048>,\n",
       " <__main__.Cards at 0x1e89037b088>,\n",
       " <__main__.Cards at 0x1e89037b648>,\n",
       " <__main__.Cards at 0x1e89037b0c8>,\n",
       " <__main__.Cards at 0x1e89037b8c8>,\n",
       " <__main__.Cards at 0x1e89037b1c8>,\n",
       " <__main__.Cards at 0x1e89037b288>,\n",
       " <__main__.Cards at 0x1e89037b208>,\n",
       " <__main__.Cards at 0x1e89037b588>,\n",
       " <__main__.Cards at 0x1e89037b988>,\n",
       " <__main__.Cards at 0x1e89037b948>,\n",
       " <__main__.Cards at 0x1e89037ba48>,\n",
       " <__main__.Cards at 0x1e89037ba08>,\n",
       " <__main__.Cards at 0x1e89037b308>,\n",
       " <__main__.Cards at 0x1e89037bc08>,\n",
       " <__main__.Cards at 0x1e89037bc48>,\n",
       " <__main__.Cards at 0x1e89037bd08>,\n",
       " <__main__.Cards at 0x1e89037bd48>,\n",
       " <__main__.Cards at 0x1e89037be08>,\n",
       " <__main__.Cards at 0x1e89037bec8>,\n",
       " <__main__.Cards at 0x1e89037bfc8>,\n",
       " <__main__.Cards at 0x1e8905075c8>,\n",
       " <__main__.Cards at 0x1e890507588>,\n",
       " <__main__.Cards at 0x1e890507a08>,\n",
       " <__main__.Cards at 0x1e890507b48>,\n",
       " <__main__.Cards at 0x1e890507b88>,\n",
       " <__main__.Cards at 0x1e890507bc8>,\n",
       " <__main__.Cards at 0x1e890507c08>,\n",
       " <__main__.Cards at 0x1e890507c48>,\n",
       " <__main__.Cards at 0x1e890507cc8>,\n",
       " <__main__.Cards at 0x1e890507c88>,\n",
       " <__main__.Cards at 0x1e89037e3c8>,\n",
       " <__main__.Cards at 0x1e89037e2c8>,\n",
       " <__main__.Cards at 0x1e89037e348>,\n",
       " <__main__.Cards at 0x1e89037e608>,\n",
       " <__main__.Cards at 0x1e89037e308>,\n",
       " <__main__.Cards at 0x1e89037e408>,\n",
       " <__main__.Cards at 0x1e89037e448>,\n",
       " <__main__.Cards at 0x1e89037e488>]"
      ]
     },
     "execution_count": 78,
     "metadata": {},
     "output_type": "execute_result"
    }
   ],
   "source": [
    "dc.all_cards"
   ]
  },
  {
   "cell_type": "code",
   "execution_count": 65,
   "metadata": {},
   "outputs": [
    {
     "name": "stdout",
     "output_type": "stream",
     "text": [
      "Deck has 0 cards\n"
     ]
    }
   ],
   "source": [
    "print(dc)"
   ]
  },
  {
   "cell_type": "code",
   "execution_count": 69,
   "metadata": {},
   "outputs": [],
   "source": [
    "dc.add_cards(new_card)"
   ]
  },
  {
   "cell_type": "code",
   "execution_count": 91,
   "metadata": {},
   "outputs": [
    {
     "name": "stdout",
     "output_type": "stream",
     "text": [
      "Deck has 52 cards\n"
     ]
    }
   ],
   "source": [
    "print(dc)"
   ]
  },
  {
   "cell_type": "code",
   "execution_count": 134,
   "metadata": {},
   "outputs": [],
   "source": [
    "dc.shuffle()"
   ]
  },
  {
   "cell_type": "code",
   "execution_count": 4,
   "metadata": {},
   "outputs": [],
   "source": [
    "class Player:\n",
    "    \n",
    "    def __init__(self,name):\n",
    "        self.name = name\n",
    "        self.cards_list = []\n",
    "    \n",
    "    def add_card(self,card):\n",
    "        if(type(card) == type([])):\n",
    "            self.cards_list.extend(card)\n",
    "        else:\n",
    "            self.cards_list.append(card)\n",
    "    \n",
    "    def play_card(self):\n",
    "        return self.cards_list.pop(0)\n",
    "    \n",
    "    def count_cards(self):\n",
    "        return len(self.cards_list)\n",
    "    \n",
    "    def __str__(self):\n",
    "        return(f'{self.name} has {len(self.cards_list)} cards')\n",
    "        "
   ]
  },
  {
   "cell_type": "code",
   "execution_count": 121,
   "metadata": {},
   "outputs": [],
   "source": [
    "np = Player('Grv')"
   ]
  },
  {
   "cell_type": "code",
   "execution_count": 122,
   "metadata": {},
   "outputs": [],
   "source": [
    "np.add_card(dc.all_cards)"
   ]
  },
  {
   "cell_type": "code",
   "execution_count": 127,
   "metadata": {},
   "outputs": [
    {
     "name": "stdout",
     "output_type": "stream",
     "text": [
      "Grv has 50 cards\n"
     ]
    }
   ],
   "source": [
    "print(np)"
   ]
  },
  {
   "cell_type": "code",
   "execution_count": 128,
   "metadata": {},
   "outputs": [
    {
     "name": "stdout",
     "output_type": "stream",
     "text": [
      "Two Of Heart\n"
     ]
    }
   ],
   "source": [
    "print(np.play_card())"
   ]
  },
  {
   "cell_type": "code",
   "execution_count": 118,
   "metadata": {},
   "outputs": [
    {
     "name": "stdout",
     "output_type": "stream",
     "text": [
      "<bound method Player.play_card of <__main__.Player object at 0x000001E892304148>>\n"
     ]
    }
   ],
   "source": [
    "print(np.play_card)"
   ]
  },
  {
   "cell_type": "code",
   "execution_count": 98,
   "metadata": {},
   "outputs": [],
   "source": [
    "card_played = np.play_card"
   ]
  },
  {
   "cell_type": "code",
   "execution_count": 117,
   "metadata": {},
   "outputs": [
    {
     "name": "stdout",
     "output_type": "stream",
     "text": [
      "Nine Of Spade\n"
     ]
    }
   ],
   "source": [
    "print(np.cards_list[0])"
   ]
  },
  {
   "cell_type": "code",
   "execution_count": 116,
   "metadata": {},
   "outputs": [
    {
     "name": "stdout",
     "output_type": "stream",
     "text": [
      "1\n"
     ]
    }
   ],
   "source": [
    "l = [1,3,4]\n",
    "print(l.pop(0))"
   ]
  },
  {
   "cell_type": "code",
   "execution_count": 5,
   "metadata": {},
   "outputs": [
    {
     "name": "stdout",
     "output_type": "stream",
     "text": [
      "Welcome to New Cards Game\n",
      "Player1 name : A\n",
      "Player2 name : B\n",
      "Player3 name : C\n",
      "Player4 name : D\n",
      "A has 13 cards\n"
     ]
    }
   ],
   "source": [
    "# create deck\n",
    "# distribute cards\n",
    "# round 1 : list of all cards, identify winner\n",
    "# check if someone lost\n",
    "\n",
    "print('Welcome to New Cards Game')\n",
    "p1 = input('Player1 name : ')\n",
    "p2 = input('Player2 name : ')\n",
    "p3 = input('Player3 name : ')\n",
    "p4 = input('Player4 name : ')\n",
    "\n",
    "all_p = [Player(p1),Player(p2),Player(p3),Player(p4)]\n",
    "deck = Deck()\n",
    "deck.shuffle()\n",
    "\n",
    "all_p[0].add_card(deck.all_cards[0::4])\n",
    "all_p[1].add_card(deck.all_cards[1::4])\n",
    "all_p[2].add_card(deck.all_cards[2::4])\n",
    "all_p[3].add_card(deck.all_cards[3::4])\n",
    "print(all_p[0])"
   ]
  },
  {
   "cell_type": "code",
   "execution_count": 6,
   "metadata": {},
   "outputs": [
    {
     "name": "stdout",
     "output_type": "stream",
     "text": [
      "A has 13 cards\n",
      "B has 13 cards\n",
      "C has 13 cards\n",
      "D has 13 cards\n",
      "Round 1\n",
      " A plays : Three Of Diamond\n",
      " B plays : Six Of Heart\n",
      " C plays : King Of Diamond\n",
      " D plays : King Of Spade\n",
      "War started\n",
      "A has 12 cards\n",
      "B has 12 cards\n",
      "C has 12 cards\n",
      "D has 12 cards\n",
      "Round 2\n",
      " A plays : Six Of Spade\n",
      " B plays : Ten Of Spade\n",
      " C plays : Two Of Heart\n",
      " D plays : Two Of Diamond\n",
      "War started\n",
      "A has 11 cards\n",
      "B has 11 cards\n",
      "C has 11 cards\n",
      "D has 11 cards\n",
      "Round 3\n",
      " A plays : Eight Of Spade\n",
      " B plays : Jack Of Heart\n",
      " C plays : Five Of Heart\n",
      " D plays : Jack Of Diamond\n",
      "8 11 5 11\n",
      "B wins this round\n",
      "A has 10 cards\n",
      "B has 22 cards\n",
      "C has 10 cards\n",
      "D has 10 cards\n",
      "Round 4\n",
      " A plays : Four Of Heart\n",
      " B plays : Four Of Club\n",
      " C plays : Ace Of Spade\n",
      " D plays : Two Of Spade\n",
      "War started\n",
      "A has 9 cards\n",
      "B has 21 cards\n",
      "C has 9 cards\n",
      "D has 9 cards\n",
      "Round 5\n",
      " A plays : Two Of Club\n",
      " B plays : Ten Of Heart\n",
      " C plays : Nine Of Heart\n",
      " D plays : Seven Of Diamond\n",
      "2 10 9 7\n",
      "B wins this round\n",
      "A has 8 cards\n",
      "B has 28 cards\n",
      "C has 8 cards\n",
      "D has 8 cards\n",
      "Round 6\n",
      " A plays : Eight Of Heart\n",
      " B plays : Queen Of Spade\n",
      " C plays : Three Of Spade\n",
      " D plays : Ace Of Heart\n",
      "8 12 3 14\n",
      "D wins this round\n",
      "A has 7 cards\n",
      "B has 27 cards\n",
      "C has 7 cards\n",
      "D has 11 cards\n",
      "Round 7\n",
      " A plays : Five Of Diamond\n",
      " B plays : Queen Of Diamond\n",
      " C plays : Four Of Spade\n",
      " D plays : Jack Of Spade\n",
      "5 12 4 11\n",
      "B wins this round\n",
      "A has 6 cards\n",
      "B has 30 cards\n",
      "C has 6 cards\n",
      "D has 10 cards\n",
      "Round 8\n",
      " A plays : Eight Of Diamond\n",
      " B plays : Queen Of Club\n",
      " C plays : Seven Of Heart\n",
      " D plays : Three Of Club\n",
      "8 12 7 3\n",
      "B wins this round\n",
      "A has 5 cards\n",
      "B has 33 cards\n",
      "C has 5 cards\n",
      "D has 9 cards\n",
      "Round 9\n",
      " A plays : Ace Of Diamond\n",
      " B plays : Nine Of Club\n",
      " C plays : Five Of Spade\n",
      " D plays : Nine Of Diamond\n",
      "14 9 5 9\n",
      "A wins this round\n",
      "A has 8 cards\n",
      "B has 32 cards\n",
      "C has 4 cards\n",
      "D has 8 cards\n",
      "Round 10\n",
      " A plays : Seven Of Spade\n",
      " B plays : Queen Of Heart\n",
      " C plays : Four Of Diamond\n",
      " D plays : King Of Heart\n",
      "7 12 4 13\n",
      "D wins this round\n",
      "A has 7 cards\n",
      "B has 31 cards\n",
      "C has 3 cards\n",
      "D has 11 cards\n",
      "Round 11\n",
      " A plays : Three Of Heart\n",
      " B plays : Six Of Club\n",
      " C plays : Eight Of Club\n",
      " D plays : Ace Of Club\n",
      "3 6 8 14\n",
      "D wins this round\n",
      "A has 6 cards\n",
      "B has 30 cards\n",
      "C has 2 cards\n",
      "D has 14 cards\n",
      "Round 12\n",
      " A plays : Ten Of Club\n",
      " B plays : King Of Club\n",
      " C plays : Jack Of Club\n",
      " D plays : Nine Of Spade\n",
      "10 13 11 9\n",
      "B wins this round\n",
      "A has 5 cards\n",
      "B has 33 cards\n",
      "C has 1 cards\n",
      "D has 13 cards\n",
      "Round 13\n",
      " A plays : Five Of Club\n",
      " B plays : Ten Of Diamond\n",
      " C plays : Seven Of Club\n",
      " D plays : Six Of Diamond\n",
      "5 10 7 6\n",
      "B wins this round\n",
      "A has 4 cards\n",
      "B has 36 cards\n",
      "C has 0 cards\n",
      "D has 12 cards\n",
      "B Wins !! Game Over !!!\n"
     ]
    }
   ],
   "source": [
    "def play_round(p1,p2,p3,p4,n1,n2,n3,n4):\n",
    "   \n",
    "    print(f' {n1} plays : {p1}')\n",
    "    print(f' {n2} plays : {p2}')\n",
    "    print(f' {n3} plays : {p3}')\n",
    "    print(f' {n4} plays : {p4}') \n",
    "    return \n",
    "    \n",
    "round_count = 1\n",
    "war_flag = False\n",
    "def identify_war(r1,r2,r3,r4):\n",
    "    if(r1==r2 or r2==r3 or r3==r4 or r1==r4):\n",
    "        return True\n",
    "    else:\n",
    "        return False\n",
    "    \n",
    "def identify_winner(a,b,c,d): \n",
    "    print(a,b,c,d)\n",
    "    if(max(a,b,c,d) == a):        \n",
    "        return 0\n",
    "    if(max(a,b,c,d) == b):\n",
    "        return 1\n",
    "    if(max(a,b,c,d) == c):\n",
    "        return 2\n",
    "    if(max(a,b,c,d) == d):\n",
    "        return 3\n",
    "\n",
    "def check_cards(all_p):\n",
    "        for i in all_p:\n",
    "            print(i)\n",
    "        a = all_p[0].count_cards()\n",
    "        b = all_p[1].count_cards()\n",
    "        c = all_p[2].count_cards()\n",
    "        d = all_p[3].count_cards()\n",
    "        if(a==0 or b==0 or c==0 or d==0):\n",
    "                if(max(a,b,c,d) == a):        \n",
    "                    return 0\n",
    "                if(max(a,b,c,d) == b):\n",
    "                    return 1\n",
    "                if(max(a,b,c,d) == c):\n",
    "                    return 2\n",
    "                if(max(a,b,c,d) == d):\n",
    "                    return 3\n",
    "        return 5\n",
    "    \n",
    "war_list = []\n",
    "while True:\n",
    "    #All play\n",
    "    war_flag = False\n",
    "    winner = check_cards(all_p)\n",
    "    if(winner < 5):\n",
    "        print(f'{all_p[winner].name} Wins !! Game Over !!!')\n",
    "        break\n",
    "    print(f'Round {round_count}')\n",
    "    p1card = all_p[0].play_card()\n",
    "    p2card = all_p[1].play_card()\n",
    "    p3card = all_p[2].play_card()\n",
    "    p4card = all_p[3].play_card()\n",
    "    play_round(p1card,p2card,p3card,p4card,all_p[0].name,all_p[1].name,all_p[2].name,all_p[3].name)\n",
    "    war_flag = identify_war(p1card.value,p2card.value,p3card.value,p4card.value)\n",
    "    if(war_flag):\n",
    "        print('War started')\n",
    "        war_list.extend([p1card,p2card,p3card,p4card])\n",
    "    else:\n",
    "        win_num = identify_winner(p1card.value,p2card.value,p3card.value,p4card.value)\n",
    "        print(f'{all_p[win_num].name} wins this round')\n",
    "        if(len(war_list) > 0):\n",
    "            all_p[win_num].add_card(war_list)\n",
    "            war_list = []\n",
    "        all_p[win_num].add_card([p1card,p2card,p3card,p4card])\n",
    "        \n",
    "    round_count += 1\n",
    "  \n",
    "   \n",
    "\n"
   ]
  },
  {
   "cell_type": "code",
   "execution_count": 174,
   "metadata": {},
   "outputs": [
    {
     "data": {
      "text/plain": [
       "5"
      ]
     },
     "execution_count": 174,
     "metadata": {},
     "output_type": "execute_result"
    }
   ],
   "source": [
    "max(1,2,5,5)"
   ]
  },
  {
   "cell_type": "code",
   "execution_count": null,
   "metadata": {},
   "outputs": [],
   "source": []
  }
 ],
 "metadata": {
  "kernelspec": {
   "display_name": "Python 3",
   "language": "python",
   "name": "python3"
  },
  "language_info": {
   "codemirror_mode": {
    "name": "ipython",
    "version": 3
   },
   "file_extension": ".py",
   "mimetype": "text/x-python",
   "name": "python",
   "nbconvert_exporter": "python",
   "pygments_lexer": "ipython3",
   "version": "3.7.6"
  }
 },
 "nbformat": 4,
 "nbformat_minor": 4
}
